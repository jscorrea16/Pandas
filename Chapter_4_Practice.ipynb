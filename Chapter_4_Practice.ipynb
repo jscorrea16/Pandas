{
 "cells": [
  {
   "cell_type": "code",
   "execution_count": 1,
   "id": "cbf546bd-dbab-4c92-9f2b-89ac4d31e329",
   "metadata": {},
   "outputs": [],
   "source": [
    "# Obtaining the Underlying Data Types\n",
    "\n",
    "import pandas as pd\n",
    "import numpy as np"
   ]
  },
  {
   "cell_type": "code",
   "execution_count": 6,
   "id": "c2f7bbf7-210f-4012-9ccd-ea6cc4755226",
   "metadata": {},
   "outputs": [
    {
     "data": {
      "text/html": [
       "<div>\n",
       "<style scoped>\n",
       "    .dataframe tbody tr th:only-of-type {\n",
       "        vertical-align: middle;\n",
       "    }\n",
       "\n",
       "    .dataframe tbody tr th {\n",
       "        vertical-align: top;\n",
       "    }\n",
       "\n",
       "    .dataframe thead th {\n",
       "        text-align: right;\n",
       "    }\n",
       "</style>\n",
       "<table border=\"1\" class=\"dataframe\">\n",
       "  <thead>\n",
       "    <tr style=\"text-align: right;\">\n",
       "      <th></th>\n",
       "      <th>Customer ID</th>\n",
       "      <th>Customer Name</th>\n",
       "      <th>2018 Revenue</th>\n",
       "      <th>2019 Revenue</th>\n",
       "      <th>Growth</th>\n",
       "      <th>Start Year</th>\n",
       "      <th>Start Month</th>\n",
       "      <th>Start Day</th>\n",
       "      <th>New Customer</th>\n",
       "    </tr>\n",
       "  </thead>\n",
       "  <tbody>\n",
       "    <tr>\n",
       "      <th>0</th>\n",
       "      <td>1001.0</td>\n",
       "      <td>Pandas Banking</td>\n",
       "      <td>€235000</td>\n",
       "      <td>€248000</td>\n",
       "      <td>5.5%</td>\n",
       "      <td>2013</td>\n",
       "      <td>3</td>\n",
       "      <td>10</td>\n",
       "      <td>0</td>\n",
       "    </tr>\n",
       "    <tr>\n",
       "      <th>1</th>\n",
       "      <td>1002.0</td>\n",
       "      <td>Pandas Grovcery</td>\n",
       "      <td>€196000</td>\n",
       "      <td>€205000</td>\n",
       "      <td>4.5%</td>\n",
       "      <td>2016</td>\n",
       "      <td>4</td>\n",
       "      <td>30</td>\n",
       "      <td>0</td>\n",
       "    </tr>\n",
       "    <tr>\n",
       "      <th>2</th>\n",
       "      <td>1003.0</td>\n",
       "      <td>Pandas Telecom</td>\n",
       "      <td>€167000</td>\n",
       "      <td>€193000</td>\n",
       "      <td>15.5%</td>\n",
       "      <td>2010</td>\n",
       "      <td>11</td>\n",
       "      <td>24</td>\n",
       "      <td>0</td>\n",
       "    </tr>\n",
       "    <tr>\n",
       "      <th>3</th>\n",
       "      <td>1004.0</td>\n",
       "      <td>Pandas Transport</td>\n",
       "      <td>€79000</td>\n",
       "      <td>€90000</td>\n",
       "      <td>13.9%</td>\n",
       "      <td>2018</td>\n",
       "      <td>1</td>\n",
       "      <td>15</td>\n",
       "      <td>1</td>\n",
       "    </tr>\n",
       "    <tr>\n",
       "      <th>4</th>\n",
       "      <td>1005.0</td>\n",
       "      <td>Pandas Insurance</td>\n",
       "      <td>€241000</td>\n",
       "      <td>€264000</td>\n",
       "      <td>9.5%</td>\n",
       "      <td>2009</td>\n",
       "      <td>6</td>\n",
       "      <td>1</td>\n",
       "      <td>0</td>\n",
       "    </tr>\n",
       "  </tbody>\n",
       "</table>\n",
       "</div>"
      ],
      "text/plain": [
       "   Customer ID     Customer Name 2018 Revenue 2019 Revenue Growth  Start Year  \\\n",
       "0       1001.0    Pandas Banking      €235000      €248000   5.5%        2013   \n",
       "1       1002.0   Pandas Grovcery      €196000      €205000   4.5%        2016   \n",
       "2       1003.0    Pandas Telecom      €167000      €193000  15.5%        2010   \n",
       "3       1004.0  Pandas Transport       €79000       €90000  13.9%        2018   \n",
       "4       1005.0  Pandas Insurance      €241000      €264000   9.5%        2009   \n",
       "\n",
       "   Start Month  Start Day  New Customer  \n",
       "0            3         10             0  \n",
       "1            4         30             0  \n",
       "2           11         24             0  \n",
       "3            1         15             1  \n",
       "4            6          1             0  "
      ]
     },
     "execution_count": 6,
     "metadata": {},
     "output_type": "execute_result"
    }
   ],
   "source": [
    "# Euro Sign = Alt + 0128\n",
    "\n",
    "column_names = [\"Customer ID\", \"Customer Name\",\\\n",
    "                \"2018 Revenue\", \"2019 Revenue\",\\\n",
    "                \"Growth\", \"Start Year\", \"Start Month\",\\\n",
    "                \"Start Day\", \"New Customer\"]\n",
    "row1 = list([1001.0, 'Pandas Banking',\\\n",
    "             '€235000', '€248000',\\\n",
    "             '5.5%', 2013, 3, 10, 0])\n",
    "row2 = list([1002.0, 'Pandas Grovcery',\\\n",
    "             '€196000', '€205000',\\\n",
    "             '4.5%', 2016, 4, 30, 0])\n",
    "row3 = list([1003.0, 'Pandas Telecom',\\\n",
    "             '€167000', '€193000', '15.5%',\\\n",
    "             2010, 11, 24, 0])\n",
    "row4 = list([1004.0, 'Pandas Transport',\\\n",
    "             '€79000', '€90000', '13.9%',\\\n",
    "             2018, 1, 15, 1])\n",
    "row5 = list([1005.0, 'Pandas Insurance',\\\n",
    "             '€241000', '€264000', '9.5%',\\\n",
    "             2009, 6, 1, 0])\n",
    "\n",
    "data_frame = pd.DataFrame(data=[row1, row2, row3, row4, row5],\\\n",
    "                                columns = column_names)\n",
    "                                \n",
    "data_frame"
   ]
  },
  {
   "cell_type": "code",
   "execution_count": 8,
   "id": "9a41f1af-9c4b-4e22-865d-1cdbcfe7572d",
   "metadata": {},
   "outputs": [
    {
     "data": {
      "text/plain": [
       "0    €235000€248000\n",
       "1    €196000€205000\n",
       "2    €167000€193000\n",
       "3      €79000€90000\n",
       "4    €241000€264000\n",
       "dtype: object"
      ]
     },
     "execution_count": 8,
     "metadata": {},
     "output_type": "execute_result"
    }
   ],
   "source": [
    "data_frame['2018 Revenue'] + data_frame['2019 Revenue']"
   ]
  },
  {
   "cell_type": "code",
   "execution_count": 9,
   "id": "a79d8b14-4018-48ca-801c-bd7512340e57",
   "metadata": {},
   "outputs": [
    {
     "data": {
      "text/plain": [
       "Customer ID      float64\n",
       "Customer Name     object\n",
       "2018 Revenue      object\n",
       "2019 Revenue      object\n",
       "Growth            object\n",
       "Start Year         int64\n",
       "Start Month        int64\n",
       "Start Day          int64\n",
       "New Customer       int64\n",
       "dtype: object"
      ]
     },
     "execution_count": 9,
     "metadata": {},
     "output_type": "execute_result"
    }
   ],
   "source": [
    "data_frame.dtypes"
   ]
  },
  {
   "cell_type": "code",
   "execution_count": 10,
   "id": "68d8b996-d5bb-4869-9a16-acf89b24fada",
   "metadata": {},
   "outputs": [
    {
     "name": "stdout",
     "output_type": "stream",
     "text": [
      "<class 'pandas.core.frame.DataFrame'>\n",
      "RangeIndex: 5 entries, 0 to 4\n",
      "Data columns (total 9 columns):\n",
      " #   Column         Non-Null Count  Dtype  \n",
      "---  ------         --------------  -----  \n",
      " 0   Customer ID    5 non-null      float64\n",
      " 1   Customer Name  5 non-null      object \n",
      " 2   2018 Revenue   5 non-null      object \n",
      " 3   2019 Revenue   5 non-null      object \n",
      " 4   Growth         5 non-null      object \n",
      " 5   Start Year     5 non-null      int64  \n",
      " 6   Start Month    5 non-null      int64  \n",
      " 7   Start Day      5 non-null      int64  \n",
      " 8   New Customer   5 non-null      int64  \n",
      "dtypes: float64(1), int64(4), object(4)\n",
      "memory usage: 492.0+ bytes\n"
     ]
    }
   ],
   "source": [
    "data_frame.info()"
   ]
  },
  {
   "cell_type": "code",
   "execution_count": 11,
   "id": "87c8ec21-3136-42a1-ac02-0b44602265a5",
   "metadata": {},
   "outputs": [],
   "source": [
    "# Converting from One Type into Another (You have 3 Options)\n",
    "# These can be found in Chapter 4 of The Pandas Workshop book.\n",
    "\n",
    "# Use the astype() function to force an appropriate dtype.\n",
    "# Use pandas functions such as to_numeric() or to_datetime().\n",
    "# Create a custom function to convert the data type"
   ]
  },
  {
   "cell_type": "code",
   "execution_count": 12,
   "id": "41d328e4-9831-4e8c-aec1-53c8431d4f92",
   "metadata": {},
   "outputs": [
    {
     "data": {
      "text/plain": [
       "0    1001\n",
       "1    1002\n",
       "2    1003\n",
       "3    1004\n",
       "4    1005\n",
       "Name: Customer ID, dtype: int64"
      ]
     },
     "execution_count": 12,
     "metadata": {},
     "output_type": "execute_result"
    }
   ],
   "source": [
    "# This is the astype() example.\n",
    "\n",
    "data_frame[\"Customer ID\"] = data_frame['Customer ID'].astype('int')\n",
    "\n",
    "data_frame[\"Customer ID\"]"
   ]
  },
  {
   "cell_type": "code",
   "execution_count": 13,
   "id": "dbd529ec-5734-43f9-a7a2-5794da962240",
   "metadata": {},
   "outputs": [
    {
     "ename": "ValueError",
     "evalue": "invalid literal for int() with base 10: '€235000'",
     "output_type": "error",
     "traceback": [
      "\u001b[0;31m---------------------------------------------------------------------------\u001b[0m",
      "\u001b[0;31mValueError\u001b[0m                                Traceback (most recent call last)",
      "Cell \u001b[0;32mIn[13], line 3\u001b[0m\n\u001b[1;32m      1\u001b[0m \u001b[38;5;66;03m# This is the astype() example.\u001b[39;00m\n\u001b[0;32m----> 3\u001b[0m data_frame[\u001b[38;5;124m'\u001b[39m\u001b[38;5;124m2018 Revenue\u001b[39m\u001b[38;5;124m'\u001b[39m] \u001b[38;5;241m=\u001b[39m data_frame[\u001b[38;5;124m'\u001b[39m\u001b[38;5;124m2018 Revenue\u001b[39m\u001b[38;5;124m'\u001b[39m]\u001b[38;5;241m.\u001b[39mastype(\u001b[38;5;124m'\u001b[39m\u001b[38;5;124mint\u001b[39m\u001b[38;5;124m'\u001b[39m)\n\u001b[1;32m      5\u001b[0m data_frame[\u001b[38;5;124m'\u001b[39m\u001b[38;5;124m2018 Revenue\u001b[39m\u001b[38;5;124m'\u001b[39m]\n",
      "File \u001b[0;32m/opt/conda/envs/anaconda-panel-2023.05-py310/lib/python3.11/site-packages/pandas/core/generic.py:6240\u001b[0m, in \u001b[0;36mNDFrame.astype\u001b[0;34m(self, dtype, copy, errors)\u001b[0m\n\u001b[1;32m   6233\u001b[0m     results \u001b[38;5;241m=\u001b[39m [\n\u001b[1;32m   6234\u001b[0m         \u001b[38;5;28mself\u001b[39m\u001b[38;5;241m.\u001b[39miloc[:, i]\u001b[38;5;241m.\u001b[39mastype(dtype, copy\u001b[38;5;241m=\u001b[39mcopy)\n\u001b[1;32m   6235\u001b[0m         \u001b[38;5;28;01mfor\u001b[39;00m i \u001b[38;5;129;01min\u001b[39;00m \u001b[38;5;28mrange\u001b[39m(\u001b[38;5;28mlen\u001b[39m(\u001b[38;5;28mself\u001b[39m\u001b[38;5;241m.\u001b[39mcolumns))\n\u001b[1;32m   6236\u001b[0m     ]\n\u001b[1;32m   6238\u001b[0m \u001b[38;5;28;01melse\u001b[39;00m:\n\u001b[1;32m   6239\u001b[0m     \u001b[38;5;66;03m# else, only a single dtype is given\u001b[39;00m\n\u001b[0;32m-> 6240\u001b[0m     new_data \u001b[38;5;241m=\u001b[39m \u001b[38;5;28mself\u001b[39m\u001b[38;5;241m.\u001b[39m_mgr\u001b[38;5;241m.\u001b[39mastype(dtype\u001b[38;5;241m=\u001b[39mdtype, copy\u001b[38;5;241m=\u001b[39mcopy, errors\u001b[38;5;241m=\u001b[39merrors)\n\u001b[1;32m   6241\u001b[0m     \u001b[38;5;28;01mreturn\u001b[39;00m \u001b[38;5;28mself\u001b[39m\u001b[38;5;241m.\u001b[39m_constructor(new_data)\u001b[38;5;241m.\u001b[39m__finalize__(\u001b[38;5;28mself\u001b[39m, method\u001b[38;5;241m=\u001b[39m\u001b[38;5;124m\"\u001b[39m\u001b[38;5;124mastype\u001b[39m\u001b[38;5;124m\"\u001b[39m)\n\u001b[1;32m   6243\u001b[0m \u001b[38;5;66;03m# GH 33113: handle empty frame or series\u001b[39;00m\n",
      "File \u001b[0;32m/opt/conda/envs/anaconda-panel-2023.05-py310/lib/python3.11/site-packages/pandas/core/internals/managers.py:448\u001b[0m, in \u001b[0;36mBaseBlockManager.astype\u001b[0;34m(self, dtype, copy, errors)\u001b[0m\n\u001b[1;32m    447\u001b[0m \u001b[38;5;28;01mdef\u001b[39;00m \u001b[38;5;21mastype\u001b[39m(\u001b[38;5;28mself\u001b[39m: T, dtype, copy: \u001b[38;5;28mbool\u001b[39m \u001b[38;5;241m=\u001b[39m \u001b[38;5;28;01mFalse\u001b[39;00m, errors: \u001b[38;5;28mstr\u001b[39m \u001b[38;5;241m=\u001b[39m \u001b[38;5;124m\"\u001b[39m\u001b[38;5;124mraise\u001b[39m\u001b[38;5;124m\"\u001b[39m) \u001b[38;5;241m-\u001b[39m\u001b[38;5;241m>\u001b[39m T:\n\u001b[0;32m--> 448\u001b[0m     \u001b[38;5;28;01mreturn\u001b[39;00m \u001b[38;5;28mself\u001b[39m\u001b[38;5;241m.\u001b[39mapply(\u001b[38;5;124m\"\u001b[39m\u001b[38;5;124mastype\u001b[39m\u001b[38;5;124m\"\u001b[39m, dtype\u001b[38;5;241m=\u001b[39mdtype, copy\u001b[38;5;241m=\u001b[39mcopy, errors\u001b[38;5;241m=\u001b[39merrors)\n",
      "File \u001b[0;32m/opt/conda/envs/anaconda-panel-2023.05-py310/lib/python3.11/site-packages/pandas/core/internals/managers.py:352\u001b[0m, in \u001b[0;36mBaseBlockManager.apply\u001b[0;34m(self, f, align_keys, ignore_failures, **kwargs)\u001b[0m\n\u001b[1;32m    350\u001b[0m         applied \u001b[38;5;241m=\u001b[39m b\u001b[38;5;241m.\u001b[39mapply(f, \u001b[38;5;241m*\u001b[39m\u001b[38;5;241m*\u001b[39mkwargs)\n\u001b[1;32m    351\u001b[0m     \u001b[38;5;28;01melse\u001b[39;00m:\n\u001b[0;32m--> 352\u001b[0m         applied \u001b[38;5;241m=\u001b[39m \u001b[38;5;28mgetattr\u001b[39m(b, f)(\u001b[38;5;241m*\u001b[39m\u001b[38;5;241m*\u001b[39mkwargs)\n\u001b[1;32m    353\u001b[0m \u001b[38;5;28;01mexcept\u001b[39;00m (\u001b[38;5;167;01mTypeError\u001b[39;00m, \u001b[38;5;167;01mNotImplementedError\u001b[39;00m):\n\u001b[1;32m    354\u001b[0m     \u001b[38;5;28;01mif\u001b[39;00m \u001b[38;5;129;01mnot\u001b[39;00m ignore_failures:\n",
      "File \u001b[0;32m/opt/conda/envs/anaconda-panel-2023.05-py310/lib/python3.11/site-packages/pandas/core/internals/blocks.py:526\u001b[0m, in \u001b[0;36mBlock.astype\u001b[0;34m(self, dtype, copy, errors)\u001b[0m\n\u001b[1;32m    508\u001b[0m \u001b[38;5;250m\u001b[39m\u001b[38;5;124;03m\"\"\"\u001b[39;00m\n\u001b[1;32m    509\u001b[0m \u001b[38;5;124;03mCoerce to the new dtype.\u001b[39;00m\n\u001b[1;32m    510\u001b[0m \n\u001b[0;32m   (...)\u001b[0m\n\u001b[1;32m    522\u001b[0m \u001b[38;5;124;03mBlock\u001b[39;00m\n\u001b[1;32m    523\u001b[0m \u001b[38;5;124;03m\"\"\"\u001b[39;00m\n\u001b[1;32m    524\u001b[0m values \u001b[38;5;241m=\u001b[39m \u001b[38;5;28mself\u001b[39m\u001b[38;5;241m.\u001b[39mvalues\n\u001b[0;32m--> 526\u001b[0m new_values \u001b[38;5;241m=\u001b[39m astype_array_safe(values, dtype, copy\u001b[38;5;241m=\u001b[39mcopy, errors\u001b[38;5;241m=\u001b[39merrors)\n\u001b[1;32m    528\u001b[0m new_values \u001b[38;5;241m=\u001b[39m maybe_coerce_values(new_values)\n\u001b[1;32m    529\u001b[0m newb \u001b[38;5;241m=\u001b[39m \u001b[38;5;28mself\u001b[39m\u001b[38;5;241m.\u001b[39mmake_block(new_values)\n",
      "File \u001b[0;32m/opt/conda/envs/anaconda-panel-2023.05-py310/lib/python3.11/site-packages/pandas/core/dtypes/astype.py:299\u001b[0m, in \u001b[0;36mastype_array_safe\u001b[0;34m(values, dtype, copy, errors)\u001b[0m\n\u001b[1;32m    296\u001b[0m     \u001b[38;5;28;01mreturn\u001b[39;00m values\u001b[38;5;241m.\u001b[39mcopy()\n\u001b[1;32m    298\u001b[0m \u001b[38;5;28;01mtry\u001b[39;00m:\n\u001b[0;32m--> 299\u001b[0m     new_values \u001b[38;5;241m=\u001b[39m astype_array(values, dtype, copy\u001b[38;5;241m=\u001b[39mcopy)\n\u001b[1;32m    300\u001b[0m \u001b[38;5;28;01mexcept\u001b[39;00m (\u001b[38;5;167;01mValueError\u001b[39;00m, \u001b[38;5;167;01mTypeError\u001b[39;00m):\n\u001b[1;32m    301\u001b[0m     \u001b[38;5;66;03m# e.g. astype_nansafe can fail on object-dtype of strings\u001b[39;00m\n\u001b[1;32m    302\u001b[0m     \u001b[38;5;66;03m#  trying to convert to float\u001b[39;00m\n\u001b[1;32m    303\u001b[0m     \u001b[38;5;28;01mif\u001b[39;00m errors \u001b[38;5;241m==\u001b[39m \u001b[38;5;124m\"\u001b[39m\u001b[38;5;124mignore\u001b[39m\u001b[38;5;124m\"\u001b[39m:\n",
      "File \u001b[0;32m/opt/conda/envs/anaconda-panel-2023.05-py310/lib/python3.11/site-packages/pandas/core/dtypes/astype.py:230\u001b[0m, in \u001b[0;36mastype_array\u001b[0;34m(values, dtype, copy)\u001b[0m\n\u001b[1;32m    227\u001b[0m     values \u001b[38;5;241m=\u001b[39m values\u001b[38;5;241m.\u001b[39mastype(dtype, copy\u001b[38;5;241m=\u001b[39mcopy)\n\u001b[1;32m    229\u001b[0m \u001b[38;5;28;01melse\u001b[39;00m:\n\u001b[0;32m--> 230\u001b[0m     values \u001b[38;5;241m=\u001b[39m astype_nansafe(values, dtype, copy\u001b[38;5;241m=\u001b[39mcopy)\n\u001b[1;32m    232\u001b[0m \u001b[38;5;66;03m# in pandas we don't store numpy str dtypes, so convert to object\u001b[39;00m\n\u001b[1;32m    233\u001b[0m \u001b[38;5;28;01mif\u001b[39;00m \u001b[38;5;28misinstance\u001b[39m(dtype, np\u001b[38;5;241m.\u001b[39mdtype) \u001b[38;5;129;01mand\u001b[39;00m \u001b[38;5;28missubclass\u001b[39m(values\u001b[38;5;241m.\u001b[39mdtype\u001b[38;5;241m.\u001b[39mtype, \u001b[38;5;28mstr\u001b[39m):\n",
      "File \u001b[0;32m/opt/conda/envs/anaconda-panel-2023.05-py310/lib/python3.11/site-packages/pandas/core/dtypes/astype.py:170\u001b[0m, in \u001b[0;36mastype_nansafe\u001b[0;34m(arr, dtype, copy, skipna)\u001b[0m\n\u001b[1;32m    166\u001b[0m     \u001b[38;5;28;01mraise\u001b[39;00m \u001b[38;5;167;01mValueError\u001b[39;00m(msg)\n\u001b[1;32m    168\u001b[0m \u001b[38;5;28;01mif\u001b[39;00m copy \u001b[38;5;129;01mor\u001b[39;00m is_object_dtype(arr\u001b[38;5;241m.\u001b[39mdtype) \u001b[38;5;129;01mor\u001b[39;00m is_object_dtype(dtype):\n\u001b[1;32m    169\u001b[0m     \u001b[38;5;66;03m# Explicit copy, or required since NumPy can't view from / to object.\u001b[39;00m\n\u001b[0;32m--> 170\u001b[0m     \u001b[38;5;28;01mreturn\u001b[39;00m arr\u001b[38;5;241m.\u001b[39mastype(dtype, copy\u001b[38;5;241m=\u001b[39m\u001b[38;5;28;01mTrue\u001b[39;00m)\n\u001b[1;32m    172\u001b[0m \u001b[38;5;28;01mreturn\u001b[39;00m arr\u001b[38;5;241m.\u001b[39mastype(dtype, copy\u001b[38;5;241m=\u001b[39mcopy)\n",
      "\u001b[0;31mValueError\u001b[0m: invalid literal for int() with base 10: '€235000'"
     ]
    }
   ],
   "source": [
    "# This is the astype() example.\n",
    "# The following code will cause an error due to € Currency.\n",
    "\n",
    "data_frame['2018 Revenue'] = data_frame['2018 Revenue'].astype('int')\n",
    "\n",
    "data_frame['2018 Revenue']"
   ]
  },
  {
   "cell_type": "code",
   "execution_count": 16,
   "id": "1cbdc95e-bc7f-4064-8175-377fc28b28ed",
   "metadata": {},
   "outputs": [],
   "source": [
    "# The following code is for a custom function to remove the € and covnvert\n",
    "# the remaining number into an integer.\n",
    "# There is a potential typo in the book at this point.\n",
    "\n",
    "def remove_currency(column):\n",
    "    new_column = column.replace('€',\"\") \n",
    "    return int(new_column)"
   ]
  },
  {
   "cell_type": "code",
   "execution_count": 18,
   "id": "ec78da65-d0c7-41b5-bee6-475fc2ae189d",
   "metadata": {},
   "outputs": [
    {
     "data": {
      "text/plain": [
       "0    235000\n",
       "1    196000\n",
       "2    167000\n",
       "3     79000\n",
       "4    241000\n",
       "Name: 2018 Revenue, dtype: int64"
      ]
     },
     "execution_count": 18,
     "metadata": {},
     "output_type": "execute_result"
    }
   ],
   "source": [
    "data_frame['2018 Revenue'] =\\\n",
    "data_frame['2018 Revenue'].apply(remove_currency)\n",
    "\n",
    "data_frame[\"2018 Revenue\"]"
   ]
  },
  {
   "cell_type": "code",
   "execution_count": 19,
   "id": "ea13596c-afe5-46c1-bcf1-202658776802",
   "metadata": {},
   "outputs": [
    {
     "data": {
      "text/plain": [
       "0    248000\n",
       "1    205000\n",
       "2    193000\n",
       "3     90000\n",
       "4    264000\n",
       "Name: 2019 Revenue, dtype: int64"
      ]
     },
     "execution_count": 19,
     "metadata": {},
     "output_type": "execute_result"
    }
   ],
   "source": [
    "# This can be repeated for the \"2019 Revenue\".\n",
    "\n",
    "data_frame['2019 Revenue'] =\\\n",
    "data_frame['2019 Revenue'].apply(remove_currency)\n",
    "\n",
    "data_frame[\"2019 Revenue\"]"
   ]
  },
  {
   "cell_type": "code",
   "execution_count": 39,
   "id": "f04ffc37-6458-4071-b3b8-aedacd7f00b2",
   "metadata": {},
   "outputs": [],
   "source": [
    "# This function will be created for the Growth column to remove\n",
    "# the % and convert it from an object into a float.\n",
    "# This is another typo with the following line of code:\n",
    "# new_column = column.replace('%', \")\n",
    "\n",
    "def remove_percentage(column):\n",
    "    new_column = column.replace('%', ' ')\n",
    "    return float(new_column)"
   ]
  },
  {
   "cell_type": "code",
   "execution_count": 41,
   "id": "f7d10445-8964-4c5f-9c05-b4f38cd70ef9",
   "metadata": {},
   "outputs": [
    {
     "ename": "AttributeError",
     "evalue": "'float' object has no attribute 'replace'",
     "output_type": "error",
     "traceback": [
      "\u001b[0;31m---------------------------------------------------------------------------\u001b[0m",
      "\u001b[0;31mAttributeError\u001b[0m                            Traceback (most recent call last)",
      "Cell \u001b[0;32mIn[41], line 1\u001b[0m\n\u001b[0;32m----> 1\u001b[0m data_frame[\u001b[38;5;124m'\u001b[39m\u001b[38;5;124mGrowth\u001b[39m\u001b[38;5;124m'\u001b[39m] \u001b[38;5;241m=\u001b[39m data_frame[\u001b[38;5;124m'\u001b[39m\u001b[38;5;124mGrowth\u001b[39m\u001b[38;5;124m'\u001b[39m]\u001b[38;5;241m.\u001b[39mapply(remove_percentage)\n\u001b[1;32m      2\u001b[0m data_frame[\u001b[38;5;124m'\u001b[39m\u001b[38;5;124mGrowth\u001b[39m\u001b[38;5;124m'\u001b[39m]\n",
      "File \u001b[0;32m/opt/conda/envs/anaconda-panel-2023.05-py310/lib/python3.11/site-packages/pandas/core/series.py:4771\u001b[0m, in \u001b[0;36mSeries.apply\u001b[0;34m(self, func, convert_dtype, args, **kwargs)\u001b[0m\n\u001b[1;32m   4661\u001b[0m \u001b[38;5;28;01mdef\u001b[39;00m \u001b[38;5;21mapply\u001b[39m(\n\u001b[1;32m   4662\u001b[0m     \u001b[38;5;28mself\u001b[39m,\n\u001b[1;32m   4663\u001b[0m     func: AggFuncType,\n\u001b[0;32m   (...)\u001b[0m\n\u001b[1;32m   4666\u001b[0m     \u001b[38;5;241m*\u001b[39m\u001b[38;5;241m*\u001b[39mkwargs,\n\u001b[1;32m   4667\u001b[0m ) \u001b[38;5;241m-\u001b[39m\u001b[38;5;241m>\u001b[39m DataFrame \u001b[38;5;241m|\u001b[39m Series:\n\u001b[1;32m   4668\u001b[0m \u001b[38;5;250m    \u001b[39m\u001b[38;5;124;03m\"\"\"\u001b[39;00m\n\u001b[1;32m   4669\u001b[0m \u001b[38;5;124;03m    Invoke function on values of Series.\u001b[39;00m\n\u001b[1;32m   4670\u001b[0m \n\u001b[0;32m   (...)\u001b[0m\n\u001b[1;32m   4769\u001b[0m \u001b[38;5;124;03m    dtype: float64\u001b[39;00m\n\u001b[1;32m   4770\u001b[0m \u001b[38;5;124;03m    \"\"\"\u001b[39;00m\n\u001b[0;32m-> 4771\u001b[0m     \u001b[38;5;28;01mreturn\u001b[39;00m SeriesApply(\u001b[38;5;28mself\u001b[39m, func, convert_dtype, args, kwargs)\u001b[38;5;241m.\u001b[39mapply()\n",
      "File \u001b[0;32m/opt/conda/envs/anaconda-panel-2023.05-py310/lib/python3.11/site-packages/pandas/core/apply.py:1123\u001b[0m, in \u001b[0;36mSeriesApply.apply\u001b[0;34m(self)\u001b[0m\n\u001b[1;32m   1120\u001b[0m     \u001b[38;5;28;01mreturn\u001b[39;00m \u001b[38;5;28mself\u001b[39m\u001b[38;5;241m.\u001b[39mapply_str()\n\u001b[1;32m   1122\u001b[0m \u001b[38;5;66;03m# self.f is Callable\u001b[39;00m\n\u001b[0;32m-> 1123\u001b[0m \u001b[38;5;28;01mreturn\u001b[39;00m \u001b[38;5;28mself\u001b[39m\u001b[38;5;241m.\u001b[39mapply_standard()\n",
      "File \u001b[0;32m/opt/conda/envs/anaconda-panel-2023.05-py310/lib/python3.11/site-packages/pandas/core/apply.py:1174\u001b[0m, in \u001b[0;36mSeriesApply.apply_standard\u001b[0;34m(self)\u001b[0m\n\u001b[1;32m   1172\u001b[0m     \u001b[38;5;28;01melse\u001b[39;00m:\n\u001b[1;32m   1173\u001b[0m         values \u001b[38;5;241m=\u001b[39m obj\u001b[38;5;241m.\u001b[39mastype(\u001b[38;5;28mobject\u001b[39m)\u001b[38;5;241m.\u001b[39m_values\n\u001b[0;32m-> 1174\u001b[0m         mapped \u001b[38;5;241m=\u001b[39m lib\u001b[38;5;241m.\u001b[39mmap_infer(\n\u001b[1;32m   1175\u001b[0m             values,\n\u001b[1;32m   1176\u001b[0m             f,\n\u001b[1;32m   1177\u001b[0m             convert\u001b[38;5;241m=\u001b[39m\u001b[38;5;28mself\u001b[39m\u001b[38;5;241m.\u001b[39mconvert_dtype,\n\u001b[1;32m   1178\u001b[0m         )\n\u001b[1;32m   1180\u001b[0m \u001b[38;5;28;01mif\u001b[39;00m \u001b[38;5;28mlen\u001b[39m(mapped) \u001b[38;5;129;01mand\u001b[39;00m \u001b[38;5;28misinstance\u001b[39m(mapped[\u001b[38;5;241m0\u001b[39m], ABCSeries):\n\u001b[1;32m   1181\u001b[0m     \u001b[38;5;66;03m# GH#43986 Need to do list(mapped) in order to get treated as nested\u001b[39;00m\n\u001b[1;32m   1182\u001b[0m     \u001b[38;5;66;03m#  See also GH#25959 regarding EA support\u001b[39;00m\n\u001b[1;32m   1183\u001b[0m     \u001b[38;5;28;01mreturn\u001b[39;00m obj\u001b[38;5;241m.\u001b[39m_constructor_expanddim(\u001b[38;5;28mlist\u001b[39m(mapped), index\u001b[38;5;241m=\u001b[39mobj\u001b[38;5;241m.\u001b[39mindex)\n",
      "File \u001b[0;32m/opt/conda/envs/anaconda-panel-2023.05-py310/lib/python3.11/site-packages/pandas/_libs/lib.pyx:2924\u001b[0m, in \u001b[0;36mpandas._libs.lib.map_infer\u001b[0;34m()\u001b[0m\n",
      "Cell \u001b[0;32mIn[39], line 7\u001b[0m, in \u001b[0;36mremove_percentage\u001b[0;34m(column)\u001b[0m\n\u001b[1;32m      6\u001b[0m \u001b[38;5;28;01mdef\u001b[39;00m \u001b[38;5;21mremove_percentage\u001b[39m(column):\n\u001b[0;32m----> 7\u001b[0m     new_column \u001b[38;5;241m=\u001b[39m column\u001b[38;5;241m.\u001b[39mreplace(\u001b[38;5;124m'\u001b[39m\u001b[38;5;124m%\u001b[39m\u001b[38;5;124m'\u001b[39m, \u001b[38;5;124m'\u001b[39m\u001b[38;5;124m \u001b[39m\u001b[38;5;124m'\u001b[39m)\n\u001b[1;32m      8\u001b[0m     \u001b[38;5;28;01mreturn\u001b[39;00m \u001b[38;5;28mfloat\u001b[39m(new_column)\n",
      "\u001b[0;31mAttributeError\u001b[0m: 'float' object has no attribute 'replace'"
     ]
    }
   ],
   "source": [
    "data_frame['Growth'] = data_frame['Growth'].apply(remove_percentage)\n",
    "data_frame['Growth']"
   ]
  },
  {
   "cell_type": "code",
   "execution_count": 35,
   "id": "94c78799-a565-4f08-85d0-ced58224e061",
   "metadata": {},
   "outputs": [
    {
     "data": {
      "text/plain": [
       "0   2013-03-10\n",
       "1   2016-04-30\n",
       "2   2010-11-24\n",
       "3   2018-01-15\n",
       "4   2009-06-01\n",
       "Name: Starting Date, dtype: datetime64[ns]"
      ]
     },
     "execution_count": 35,
     "metadata": {},
     "output_type": "execute_result"
    }
   ],
   "source": [
    "data_frame.rename(columns={'Start Year': 'year',\\\n",
    "                           'Start Month': 'month',\\\n",
    "                           'Start Day': 'day'},\\\n",
    "                           inplace = True)\n",
    "                           \n",
    "data_frame['Starting Date']=\\\n",
    "pd.to_datetime(data_frame[['day', 'month', 'year']])\n",
    "                           \n",
    "data_frame['Starting Date']                           "
   ]
  },
  {
   "cell_type": "code",
   "execution_count": 36,
   "id": "53072f64-5b10-4ac9-abdc-c7573fd5635d",
   "metadata": {},
   "outputs": [
    {
     "data": {
      "text/plain": [
       "0    False\n",
       "1    False\n",
       "2    False\n",
       "3     True\n",
       "4    False\n",
       "Name: New Customer, dtype: bool"
      ]
     },
     "execution_count": 36,
     "metadata": {},
     "output_type": "execute_result"
    }
   ],
   "source": [
    "# Converting New Customer from an int64 into a bool.\n",
    "\n",
    "data_frame[\"New Customer\"] =\\\n",
    "data_frame['New Customer'].astype('bool')\n",
    "\n",
    "data_frame[\"New Customer\"]"
   ]
  },
  {
   "cell_type": "code",
   "execution_count": 37,
   "id": "37057773-4819-47a7-9b76-20505769531b",
   "metadata": {},
   "outputs": [
    {
     "data": {
      "text/plain": [
       "0      Pandas Banking\n",
       "1     Pandas Grovcery\n",
       "2      Pandas Telecom\n",
       "3    Pandas Transport\n",
       "4    Pandas Insurance\n",
       "Name: Customer Name, dtype: category\n",
       "Categories (5, object): ['Pandas Banking', 'Pandas Grovcery', 'Pandas Insurance', 'Pandas Telecom', 'Pandas Transport']"
      ]
     },
     "execution_count": 37,
     "metadata": {},
     "output_type": "execute_result"
    }
   ],
   "source": [
    "# Converting Customer Name from an object into a category.\n",
    "\n",
    "data_frame[\"Customer Name\"] =\\\n",
    "data_frame['Customer Name'].astype('category')\n",
    "\n",
    "data_frame[\"Customer Name\"]"
   ]
  },
  {
   "cell_type": "code",
   "execution_count": 38,
   "id": "a79d7535-8e9f-4bcc-b2f2-10f88b4d3b95",
   "metadata": {},
   "outputs": [
    {
     "data": {
      "text/plain": [
       "Customer ID               int64\n",
       "Customer Name          category\n",
       "2018 Revenue              int64\n",
       "2019 Revenue              int64\n",
       "Growth                  float64\n",
       "year                      int64\n",
       "month                     int64\n",
       "day                       int64\n",
       "New Customer               bool\n",
       "Starting Date    datetime64[ns]\n",
       "dtype: object"
      ]
     },
     "execution_count": 38,
     "metadata": {},
     "output_type": "execute_result"
    }
   ],
   "source": [
    "data_frame.dtypes"
   ]
  },
  {
   "cell_type": "code",
   "execution_count": null,
   "id": "16f46b3e-a504-4f40-9ffe-a48c443dae1b",
   "metadata": {},
   "outputs": [],
   "source": []
  }
 ],
 "metadata": {
  "kernelspec": {
   "display_name": "anaconda-panel-2023.05-py310",
   "language": "python",
   "name": "conda-env-anaconda-panel-2023.05-py310-py"
  },
  "language_info": {
   "codemirror_mode": {
    "name": "ipython",
    "version": 3
   },
   "file_extension": ".py",
   "mimetype": "text/x-python",
   "name": "python",
   "nbconvert_exporter": "python",
   "pygments_lexer": "ipython3",
   "version": "3.11.3"
  }
 },
 "nbformat": 4,
 "nbformat_minor": 5
}
