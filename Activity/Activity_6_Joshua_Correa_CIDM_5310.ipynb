{
 "cells": [
  {
   "cell_type": "code",
   "execution_count": 1,
   "metadata": {},
   "outputs": [],
   "source": [
    "import pandas as pd"
   ]
  },
  {
   "cell_type": "code",
   "execution_count": 3,
   "metadata": {},
   "outputs": [
    {
     "ename": "TypeError",
     "evalue": "read_csv() got an unexpected keyword argument 'squeeze'",
     "output_type": "error",
     "traceback": [
      "\u001b[1;31m---------------------------------------------------------------------------\u001b[0m",
      "\u001b[1;31mTypeError\u001b[0m                                 Traceback (most recent call last)",
      "Cell \u001b[1;32mIn[3], line 4\u001b[0m\n\u001b[0;32m      1\u001b[0m \u001b[39m# List out the resulting series.\u001b[39;00m\n\u001b[0;32m      3\u001b[0m populations_2010 \u001b[39m=\u001b[39m\\\n\u001b[1;32m----> 4\u001b[0m pd\u001b[39m.\u001b[39;49mread_csv(\u001b[39m'\u001b[39;49m\u001b[39mC:\u001b[39;49m\u001b[39m\\\\\u001b[39;49;00m\u001b[39mUsers\u001b[39;49m\u001b[39m\\\\\u001b[39;49;00m\u001b[39mcorre\u001b[39;49m\u001b[39m\\\\\u001b[39;49;00m\u001b[39mOneDrive\u001b[39;49m\u001b[39m\\\\\u001b[39;49;00m\u001b[39mDesktop\u001b[39;49m\u001b[39m\\\\\u001b[39;49;00m\u001b[39mWT_Summer_2023\u001b[39;49m\u001b[39m\\\\\u001b[39;49;00m\u001b[39mPandas\u001b[39;49m\u001b[39m\\\\\u001b[39;49;00m\u001b[39mDataset\u001b[39;49m\u001b[39m\\\\\u001b[39;49;00m\u001b[39mUS_Census_SUB-IP-EST2019-ANNRNK_top_20_2010.csv\u001b[39;49m\u001b[39m'\u001b[39;49m,\n\u001b[0;32m      5\u001b[0m index_col \u001b[39m=\u001b[39;49m [\u001b[39m0\u001b[39;49m],\n\u001b[0;32m      6\u001b[0m squeeze \u001b[39m=\u001b[39;49m \u001b[39mTrue\u001b[39;49;00m)\n\u001b[0;32m      8\u001b[0m populations_2010\n",
      "\u001b[1;31mTypeError\u001b[0m: read_csv() got an unexpected keyword argument 'squeeze'"
     ]
    }
   ],
   "source": [
    "# List out the resulting series.\n",
    "\n",
    "populations_2010 =\\\n",
    "pd.read_csv('C:\\\\Users\\\\corre\\\\OneDrive\\\\Desktop\\\\WT_Summer_2023\\\\Pandas\\\\Dataset\\\\US_Census_SUB-IP-EST2019-ANNRNK_top_20_2010.csv',\n",
    "    index_col = [0],\n",
    "    squeeze = True)\n",
    "\n",
    "populations_2010"
   ]
  },
  {
   "cell_type": "code",
   "execution_count": null,
   "metadata": {},
   "outputs": [],
   "source": []
  }
 ],
 "metadata": {
  "kernelspec": {
   "display_name": "Python 3",
   "language": "python",
   "name": "python3"
  },
  "language_info": {
   "codemirror_mode": {
    "name": "ipython",
    "version": 3
   },
   "file_extension": ".py",
   "mimetype": "text/x-python",
   "name": "python",
   "nbconvert_exporter": "python",
   "pygments_lexer": "ipython3",
   "version": "3.11.4"
  },
  "orig_nbformat": 4
 },
 "nbformat": 4,
 "nbformat_minor": 2
}
