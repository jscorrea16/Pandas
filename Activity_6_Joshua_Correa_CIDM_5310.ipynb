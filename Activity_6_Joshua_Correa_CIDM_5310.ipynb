{
  "nbformat": 4,
  "nbformat_minor": 0,
  "metadata": {
    "colab": {
      "provenance": [],
      "mount_file_id": "1gqnfCESYW9e4HDmvEoI_tgsK0cl8XaI0",
      "authorship_tag": "ABX9TyPO87SzZSb++lIxGC/VG3bu",
      "include_colab_link": true
    },
    "kernelspec": {
      "name": "python3",
      "display_name": "Python 3"
    },
    "language_info": {
      "name": "python"
    }
  },
  "cells": [
    {
      "cell_type": "markdown",
      "metadata": {
        "id": "view-in-github",
        "colab_type": "text"
      },
      "source": [
        "<a href=\"https://colab.research.google.com/github/jscorrea16/Pandas/blob/main/Activity_6_Joshua_Correa_CIDM_5310.ipynb\" target=\"_parent\"><img src=\"https://colab.research.google.com/assets/colab-badge.svg\" alt=\"Open In Colab\"/></a>"
      ]
    },
    {
      "cell_type": "code",
      "execution_count": 1,
      "metadata": {
        "id": "75T28yqjxnEP"
      },
      "outputs": [],
      "source": [
        "import pandas as pd"
      ]
    },
    {
      "cell_type": "code",
      "source": [
        "# This code would not run in VSCode.\n",
        "\n",
        "populations_2010 = pd.read_csv('/content/drive/MyDrive/Dataset/US_Census_SUB-IP-EST2019-ANNRNK_top_20_2010.csv',\n",
        "    index_col = [0],\n",
        "    squeeze = True)\n",
        "\n",
        "populations_2010"
      ],
      "metadata": {
        "colab": {
          "base_uri": "https://localhost:8080/"
        },
        "id": "z62GtMyHxuyi",
        "outputId": "0dd41b24-4e62-4160-f77e-22531e03b4a8"
      },
      "execution_count": 2,
      "outputs": [
        {
          "output_type": "stream",
          "name": "stderr",
          "text": [
            "<ipython-input-2-cf73d235064a>:1: FutureWarning: The squeeze argument has been deprecated and will be removed in a future version. Append .squeeze(\"columns\") to the call to squeeze.\n",
            "\n",
            "\n",
            "  populations_2010 = pd.read_csv('/content/drive/MyDrive/Dataset/US_Census_SUB-IP-EST2019-ANNRNK_top_20_2010.csv',\n"
          ]
        },
        {
          "output_type": "execute_result",
          "data": {
            "text/plain": [
              "City\n",
              "New York                8190209\n",
              "Los Angeles             3795512\n",
              "Chicago                 2697477\n",
              "Houston                 2100280\n",
              "Phoenix                 1449038\n",
              "Philadelphia            1528283\n",
              "San Antonio             1332299\n",
              "San Diego               1305906\n",
              "Dallas                  1200350\n",
              "San Jose                 954940\n",
              "Austin                   806164\n",
              "Jacksonville             823114\n",
              "Fort Worth               748441\n",
              "Columbus                 790943\n",
              "Charlotte                738444\n",
              "San Francisco            805505\n",
              "Indianapolis             821579\n",
              "Seattle                  610630\n",
              "Denver                   603359\n",
              "District of Columbia     605226\n",
              "Name: 2010, dtype: int64"
            ]
          },
          "metadata": {},
          "execution_count": 2
        }
      ]
    },
    {
      "cell_type": "code",
      "source": [
        "# Total population for the largest 3 cities in 2010.\n",
        "\n",
        "top_3_2010 = sum(populations_2010[['New York', 'Los Angeles', 'Chicago']])"
      ],
      "metadata": {
        "id": "veSqMdpvyTSn"
      },
      "execution_count": 3,
      "outputs": []
    },
    {
      "cell_type": "code",
      "source": [
        "# This code would not run in VSCode.\n",
        "# Read in the 2019 data.\n",
        "\n",
        "populations_2019 = pd.read_csv('/content/drive/MyDrive/Dataset/US_Census_SUB-IP-EST2019-ANNRNK_top_20_2019.csv',\n",
        "    index_col = [0],\n",
        "    squeeze = True)\n",
        "\n",
        "populations_2019"
      ],
      "metadata": {
        "colab": {
          "base_uri": "https://localhost:8080/"
        },
        "id": "asI-MGt-yj5e",
        "outputId": "391db146-f27a-4101-d0ff-965357e53e24"
      },
      "execution_count": 4,
      "outputs": [
        {
          "output_type": "stream",
          "name": "stderr",
          "text": [
            "<ipython-input-4-6f590f21162b>:1: FutureWarning: The squeeze argument has been deprecated and will be removed in a future version. Append .squeeze(\"columns\") to the call to squeeze.\n",
            "\n",
            "\n",
            "  populations_2019 = pd.read_csv('/content/drive/MyDrive/Dataset/US_Census_SUB-IP-EST2019-ANNRNK_top_20_2019.csv',\n"
          ]
        },
        {
          "output_type": "execute_result",
          "data": {
            "text/plain": [
              "City\n",
              "New York                8336817\n",
              "Los Angeles             3979576\n",
              "Chicago                 2693976\n",
              "Houston                 2320268\n",
              "Phoenix                 1680992\n",
              "Philadelphia            1584064\n",
              "San Antonio             1547253\n",
              "San Diego               1423851\n",
              "Dallas                  1343573\n",
              "San Jose                1021795\n",
              "Austin                   978908\n",
              "Jacksonville             911507\n",
              "Fort Worth               909585\n",
              "Columbus                 898553\n",
              "Charlotte                885708\n",
              "San Francisco            881549\n",
              "Indianapolis             876384\n",
              "Seattle                  753675\n",
              "Denver                   727211\n",
              "District of Columbia     705749\n",
              "Name: 2019, dtype: int64"
            ]
          },
          "metadata": {},
          "execution_count": 4
        }
      ]
    },
    {
      "cell_type": "code",
      "source": [
        "# Total population for the largest 3 cities in 2019.\n",
        "\n",
        "top_3_2019 = sum(populations_2019[['New York', 'Los Angeles', 'Chicago']])"
      ],
      "metadata": {
        "id": "IuByTvOlzQWa"
      },
      "execution_count": 5,
      "outputs": []
    },
    {
      "cell_type": "code",
      "source": [
        "# Compare the percent change\n",
        "\n",
        "top_3_change = 100 * (top_3_2019 - top_3_2010) / top_3_2010\n",
        "all_change = 100 * sum(populations_2019 - populations_2010) / sum(populations_2010)\n",
        "\n",
        "#\n",
        "\n",
        "print('top 3 changed',\n",
        "      str(round(top_3_change, 1)), '%\\n',\n",
        "      'vs. all changed', str(round(all_change, 1)),\n",
        "      '%')"
      ],
      "metadata": {
        "colab": {
          "base_uri": "https://localhost:8080/"
        },
        "id": "cHcSzs7lzfBN",
        "outputId": "ba54ed36-28fc-41ff-87fd-d61fefbf21c3"
      },
      "execution_count": 6,
      "outputs": [
        {
          "output_type": "stream",
          "name": "stdout",
          "text": [
            "top 3 changed 2.2 %\n",
            " vs. all changed 8.0 %\n"
          ]
        }
      ]
    },
    {
      "cell_type": "code",
      "source": [
        "# This is ready for grading."
      ],
      "metadata": {
        "id": "ZWD5v_-n1Cts"
      },
      "execution_count": null,
      "outputs": []
    }
  ]
}